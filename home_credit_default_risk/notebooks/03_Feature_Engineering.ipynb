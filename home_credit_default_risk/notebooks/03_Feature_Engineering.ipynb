{
 "cells": [
  {
   "cell_type": "markdown",
   "id": "million-segment",
   "metadata": {},
   "source": [
    "# Home Credit - Feature Engineering\n",
    "\n",
    "In the last EDA notebook, \n",
    "1. We had a detailed look at features\n",
    "2. And their relationship with target variable.\n",
    "\n",
    "Based on above analysis and common sense based domain knowledge, we will create additional features which might be useful in predicting credit default. We have created new features in Data Wrangling when we combined Bureau data and Home Credit Historical data with current application data. This notebook focuses on adding more features based on EDA analysis and current application data."
   ]
  },
  {
   "cell_type": "code",
   "execution_count": 1,
   "id": "maritime-response",
   "metadata": {},
   "outputs": [],
   "source": [
    "import numpy as np \n",
    "import pandas as pd \n",
    "import matplotlib.pyplot as plt \n",
    "from matplotlib.ticker import PercentFormatter\n",
    "import seaborn as sns\n",
    "\n",
    "from scipy import stats\n",
    "\n",
    "%matplotlib inline\n",
    "%precision %.2f\n",
    "\n",
    "plt.style.use('bmh')\n",
    "pd.set_option('display.max_rows', 30)\n",
    "pd.set_option('display.min_rows', 10)\n",
    "pd.set_option('display.max_columns', 100)"
   ]
  },
  {
   "cell_type": "code",
   "execution_count": 2,
   "id": "occasional-pakistan",
   "metadata": {},
   "outputs": [],
   "source": [
    "train_path = '../data/interim/df_train_dimR.csv'\n",
    "test_path = '../data/interim/df_test_dimR.csv'\n",
    "dtype_path = '../data/interim/data_types.csv'"
   ]
  },
  {
   "cell_type": "code",
   "execution_count": 3,
   "id": "furnished-worthy",
   "metadata": {},
   "outputs": [
    {
     "name": "stdout",
     "output_type": "stream",
     "text": [
      "<class 'pandas.core.frame.DataFrame'>\n",
      "Int64Index: 215249 entries, 0 to 215248\n",
      "Columns: 177 entries, sk_id_curr to bc_cnt_cr_status_others\n",
      "dtypes: float64(109), int64(41), object(27)\n",
      "memory usage: 292.3+ MB\n"
     ]
    }
   ],
   "source": [
    "df_train = pd.read_csv(train_path,index_col=0)\n",
    "df_train.info()"
   ]
  },
  {
   "cell_type": "markdown",
   "id": "boring-acceptance",
   "metadata": {},
   "source": [
    "Getting the data types of variables"
   ]
  },
  {
   "cell_type": "code",
   "execution_count": 4,
   "id": "defensive-capability",
   "metadata": {},
   "outputs": [],
   "source": [
    "df_dtype = pd.read_csv(dtype_path,index_col=0)\n",
    "dict_dtype = df_dtype.dtype.to_dict()"
   ]
  },
  {
   "cell_type": "markdown",
   "id": "explicit-cooking",
   "metadata": {},
   "source": [
    "Converting dataset to optimize memory usage based on EDA analysis."
   ]
  },
  {
   "cell_type": "code",
   "execution_count": 5,
   "id": "committed-drilling",
   "metadata": {},
   "outputs": [
    {
     "name": "stdout",
     "output_type": "stream",
     "text": [
      "<class 'pandas.core.frame.DataFrame'>\n",
      "Int64Index: 215249 entries, 0 to 215248\n",
      "Columns: 177 entries, sk_id_curr to bc_cnt_cr_status_others\n",
      "dtypes: float16(90), float64(19), int64(6), int8(34), object(28)\n",
      "memory usage: 132.6+ MB\n"
     ]
    }
   ],
   "source": [
    "df_train = df_train.astype(dict_dtype)\n",
    "df_train.info()"
   ]
  },
  {
   "cell_type": "markdown",
   "id": "separate-raleigh",
   "metadata": {},
   "source": [
    "Now we will create additional features"
   ]
  },
  {
   "cell_type": "markdown",
   "id": "occupied-conditions",
   "metadata": {},
   "source": [
    "### Application details based features    \n"
   ]
  },
  {
   "cell_type": "code",
   "execution_count": 6,
   "id": "employed-namibia",
   "metadata": {},
   "outputs": [],
   "source": [
    "# listing all the indicators for various document availability\n",
    "document_features = ['flag_document_2', 'flag_document_3', 'flag_document_4', 'flag_document_5', 'flag_document_6',\n",
    "       'flag_document_7', 'flag_document_8', 'flag_document_9', 'flag_document_10', 'flag_document_11', \n",
    "        'flag_document_12', 'flag_document_13', 'flag_document_14', 'flag_document_15', 'flag_document_16', \n",
    "        'flag_document_17', 'flag_document_18', 'flag_document_19', 'flag_document_20', 'flag_document_21']\n",
    "\n",
    "def crt_appliation_features(df):\n",
    "    \"\"\"\n",
    "    Create new featues based on application details\n",
    "    df - train/test dataset\n",
    "    \"\"\"\n",
    "    \n",
    "    df['rt_credit_income'] = df.amt_credit/df.amt_income_total\n",
    "    df['rt_annuity_income'] = df.amt_annuity/df.amt_income_total\n",
    "    df['rt_annuity_credit'] = df.amt_annuity/df.amt_credit\n",
    "    df['rt_goods_price_credit'] = df.amt_goods_price/df.amt_credit\n",
    "    df['total_document_flags'] = df[document_features].sum(axis=1)\n",
    "    \n",
    "    return df"
   ]
  },
  {
   "cell_type": "code",
   "execution_count": 7,
   "id": "urban-sector",
   "metadata": {},
   "outputs": [],
   "source": [
    "df_train_fe = df_train.copy()\n",
    "df_train_fe = crt_appliation_features(df_train_fe)"
   ]
  },
  {
   "cell_type": "markdown",
   "id": "expired-quality",
   "metadata": {},
   "source": [
    "### Applicant's details based features"
   ]
  },
  {
   "cell_type": "code",
   "execution_count": 8,
   "id": "thick-lunch",
   "metadata": {},
   "outputs": [],
   "source": [
    "def crt_applicant_features(df):\n",
    "    \"\"\"\n",
    "    Create new featues based on applicant's details\n",
    "    df - train/test dataset\n",
    "    \"\"\"\n",
    "    \n",
    "    df['rt_days_employed_birth'] = df.days_employed/df.days_birth\n",
    "    df['rt_days_id_birth'] = df.days_id_publish/df.days_birth\n",
    "    df['rt_phone_changed_birth'] = df.days_last_phone_change/df.days_birth\n",
    "    df['avg_family_income'] = df.amt_income_total/df.cnt_fam_members\n",
    "    df['avg_family_credit'] = df.amt_credit/df.cnt_fam_members\n",
    "    df['total_contact_flags'] = df.flag_mobil + df.flag_work_phone + df.flag_cont_mobile + df.flag_phone + df.flag_email\n",
    "    \n",
    "    return df"
   ]
  },
  {
   "cell_type": "code",
   "execution_count": 9,
   "id": "floating-debut",
   "metadata": {},
   "outputs": [],
   "source": [
    "df_train_fe = crt_applicant_features(df_train_fe)"
   ]
  },
  {
   "cell_type": "code",
   "execution_count": 10,
   "id": "imposed-reception",
   "metadata": {},
   "outputs": [
    {
     "data": {
      "text/plain": [
       "(215249, 188)"
      ]
     },
     "execution_count": 10,
     "metadata": {},
     "output_type": "execute_result"
    }
   ],
   "source": [
    "df_train_fe.shape"
   ]
  },
  {
   "cell_type": "markdown",
   "id": "absolute-guest",
   "metadata": {},
   "source": [
    "Repeating same steps for test data"
   ]
  },
  {
   "cell_type": "code",
   "execution_count": 11,
   "id": "heated-headline",
   "metadata": {},
   "outputs": [
    {
     "name": "stdout",
     "output_type": "stream",
     "text": [
      "<class 'pandas.core.frame.DataFrame'>\n",
      "Int64Index: 92250 entries, 0 to 92249\n",
      "Columns: 177 entries, sk_id_curr to bc_cnt_cr_status_others\n",
      "dtypes: float64(109), int64(41), object(27)\n",
      "memory usage: 125.3+ MB\n"
     ]
    }
   ],
   "source": [
    "df_test = pd.read_csv(test_path,index_col=0)\n",
    "df_test.info()"
   ]
  },
  {
   "cell_type": "code",
   "execution_count": 12,
   "id": "southern-liberal",
   "metadata": {},
   "outputs": [],
   "source": [
    "df_test = df_test.astype(dict_dtype)\n",
    "\n",
    "df_test_fe = df_test.copy()\n",
    "df_test_fe = crt_appliation_features(df_test_fe)\n",
    "df_test_fe = crt_applicant_features(df_test_fe)"
   ]
  },
  {
   "cell_type": "code",
   "execution_count": 13,
   "id": "improving-injury",
   "metadata": {},
   "outputs": [
    {
     "data": {
      "text/plain": [
       "188"
      ]
     },
     "execution_count": 13,
     "metadata": {},
     "output_type": "execute_result"
    }
   ],
   "source": [
    "(df_test_fe.dtypes == df_train_fe.dtypes).sum()"
   ]
  },
  {
   "cell_type": "code",
   "execution_count": 14,
   "id": "phantom-japan",
   "metadata": {},
   "outputs": [],
   "source": [
    "train_path = '../data/interim/df_train_fe.csv'\n",
    "df_train_fe.to_csv(train_path)\n",
    "\n",
    "test_path = '../data/interim/df_test_fe.csv'\n",
    "df_test_fe.to_csv(test_path)\n"
   ]
  },
  {
   "cell_type": "code",
   "execution_count": 15,
   "id": "requested-russian",
   "metadata": {},
   "outputs": [],
   "source": [
    "df_data_types = pd.DataFrame(df_train_fe.dtypes, columns=['dtype'])\n",
    "\n",
    "dtype_path = '../data/interim/data_types_fe.csv'\n",
    "df_data_types.to_csv(dtype_path)"
   ]
  },
  {
   "cell_type": "code",
   "execution_count": null,
   "id": "joined-projector",
   "metadata": {},
   "outputs": [],
   "source": []
  }
 ],
 "metadata": {
  "kernelspec": {
   "display_name": "Python 3",
   "language": "python",
   "name": "python3"
  },
  "language_info": {
   "codemirror_mode": {
    "name": "ipython",
    "version": 3
   },
   "file_extension": ".py",
   "mimetype": "text/x-python",
   "name": "python",
   "nbconvert_exporter": "python",
   "pygments_lexer": "ipython3",
   "version": "3.7.9"
  }
 },
 "nbformat": 4,
 "nbformat_minor": 5
}
