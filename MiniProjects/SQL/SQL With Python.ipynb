{
 "cells": [
  {
   "cell_type": "markdown",
   "id": "under-fifteen",
   "metadata": {},
   "source": [
    "### Connecting to SQL from Python"
   ]
  },
  {
   "cell_type": "code",
   "execution_count": 1,
   "id": "friendly-seller",
   "metadata": {},
   "outputs": [],
   "source": [
    "import sqlite3\n",
    "from sqlite3 import Error\n",
    "import pandas as pd"
   ]
  },
  {
   "cell_type": "markdown",
   "id": "collectible-bleeding",
   "metadata": {},
   "source": [
    "Reading data in Dataframe  \n",
    "Note : Column names are returned as tuples\n",
    "https://docs.python.org/3/library/sqlite3.html#sqlite3.Cursor"
   ]
  },
  {
   "cell_type": "code",
   "execution_count": 2,
   "id": "medical-campbell",
   "metadata": {},
   "outputs": [
    {
     "name": "stdout",
     "output_type": "stream",
     "text": [
      "<class 'sqlite3.Cursor'>\n"
     ]
    }
   ],
   "source": [
    "with sqlite3.connect('sqlite_db_pythonsqlite.db') as conn  :\n",
    "    facilities = conn.execute(\"SELECT * FROM Facilities\")\n",
    "    print(type(facilities))\n",
    "    r = facilities.fetchall()\n",
    "    df_fac = pd.DataFrame(r)\n",
    "    df_fac.columns = [col[0] for col in facilities.description]"
   ]
  },
  {
   "cell_type": "code",
   "execution_count": 3,
   "id": "early-antigua",
   "metadata": {},
   "outputs": [
    {
     "data": {
      "text/html": [
       "<div>\n",
       "<style scoped>\n",
       "    .dataframe tbody tr th:only-of-type {\n",
       "        vertical-align: middle;\n",
       "    }\n",
       "\n",
       "    .dataframe tbody tr th {\n",
       "        vertical-align: top;\n",
       "    }\n",
       "\n",
       "    .dataframe thead th {\n",
       "        text-align: right;\n",
       "    }\n",
       "</style>\n",
       "<table border=\"1\" class=\"dataframe\">\n",
       "  <thead>\n",
       "    <tr style=\"text-align: right;\">\n",
       "      <th></th>\n",
       "      <th>facid</th>\n",
       "      <th>name</th>\n",
       "      <th>membercost</th>\n",
       "      <th>guestcost</th>\n",
       "      <th>initialoutlay</th>\n",
       "      <th>monthlymaintenance</th>\n",
       "    </tr>\n",
       "  </thead>\n",
       "  <tbody>\n",
       "    <tr>\n",
       "      <th>0</th>\n",
       "      <td>0</td>\n",
       "      <td>Tennis Court 1</td>\n",
       "      <td>5.0</td>\n",
       "      <td>25.0</td>\n",
       "      <td>10000</td>\n",
       "      <td>200</td>\n",
       "    </tr>\n",
       "    <tr>\n",
       "      <th>1</th>\n",
       "      <td>1</td>\n",
       "      <td>Tennis Court 2</td>\n",
       "      <td>5.0</td>\n",
       "      <td>25.0</td>\n",
       "      <td>8000</td>\n",
       "      <td>200</td>\n",
       "    </tr>\n",
       "    <tr>\n",
       "      <th>2</th>\n",
       "      <td>2</td>\n",
       "      <td>Badminton Court</td>\n",
       "      <td>0.0</td>\n",
       "      <td>15.5</td>\n",
       "      <td>4000</td>\n",
       "      <td>50</td>\n",
       "    </tr>\n",
       "    <tr>\n",
       "      <th>3</th>\n",
       "      <td>3</td>\n",
       "      <td>Table Tennis</td>\n",
       "      <td>0.0</td>\n",
       "      <td>5.0</td>\n",
       "      <td>320</td>\n",
       "      <td>10</td>\n",
       "    </tr>\n",
       "    <tr>\n",
       "      <th>4</th>\n",
       "      <td>4</td>\n",
       "      <td>Massage Room 1</td>\n",
       "      <td>9.9</td>\n",
       "      <td>80.0</td>\n",
       "      <td>4000</td>\n",
       "      <td>3000</td>\n",
       "    </tr>\n",
       "  </tbody>\n",
       "</table>\n",
       "</div>"
      ],
      "text/plain": [
       "   facid             name  membercost  guestcost  initialoutlay  \\\n",
       "0      0   Tennis Court 1         5.0       25.0          10000   \n",
       "1      1   Tennis Court 2         5.0       25.0           8000   \n",
       "2      2  Badminton Court         0.0       15.5           4000   \n",
       "3      3     Table Tennis         0.0        5.0            320   \n",
       "4      4   Massage Room 1         9.9       80.0           4000   \n",
       "\n",
       "   monthlymaintenance  \n",
       "0                 200  \n",
       "1                 200  \n",
       "2                  50  \n",
       "3                  10  \n",
       "4                3000  "
      ]
     },
     "execution_count": 3,
     "metadata": {},
     "output_type": "execute_result"
    }
   ],
   "source": [
    "df_fac.head()"
   ]
  },
  {
   "cell_type": "markdown",
   "id": "headed-repository",
   "metadata": {},
   "source": [
    "Q10: Produce a list of facilities with a total revenue less than 1000. The output of facility name and total revenue, sorted by revenue. Remember that there's a different cost for guests and members!"
   ]
  },
  {
   "cell_type": "code",
   "execution_count": 4,
   "id": "textile-ideal",
   "metadata": {},
   "outputs": [
    {
     "name": "stdout",
     "output_type": "stream",
     "text": [
      "        facility  total_revenue\n",
      "0   Table Tennis            180\n",
      "1  Snooker Table            240\n",
      "2     Pool Table            270\n"
     ]
    }
   ],
   "source": [
    "with sqlite3.connect('sqlite_db_pythonsqlite.db') as conn  :\n",
    "    q10 = conn.execute(\"SELECT f.name AS facility, \\\n",
    "        SUM(CASE WHEN b.memid = 0  THEN f.guestcost * b.slots \\\n",
    "        ELSE f.membercost * b.slots END) AS total_revenue \\\n",
    "    FROM Bookings AS b \\\n",
    "    LEFT JOIN Facilities AS f \\\n",
    "    ON f.facid = b.facid \\\n",
    "    GROUP BY f.name \\\n",
    "    HAVING total_revenue < 1000 \\\n",
    "    ORDER BY total_revenue\")\n",
    "    r = q10.fetchall()\n",
    "    df_fac = pd.DataFrame(r)\n",
    "    df_fac.columns = [col[0] for col in q10.description]\n",
    "    print(df_fac)\n"
   ]
  },
  {
   "cell_type": "markdown",
   "id": "blank-rough",
   "metadata": {},
   "source": [
    "Q11: Produce a report of members and who recommended them in alphabetic surname,firstname order\n"
   ]
  },
  {
   "cell_type": "code",
   "execution_count": 5,
   "id": "verified-month",
   "metadata": {},
   "outputs": [
    {
     "name": "stdout",
     "output_type": "stream",
     "text": [
      "      surname firstname        referred_by\n",
      "0       Bader  Florence    Stibbons Ponder\n",
      "1       Baker      Anne    Stibbons Ponder\n",
      "2       Baker   Timothy     Farrell Jemima\n",
      "3      Boothe       Tim         Rownam Tim\n",
      "4     Butters    Gerald       Smith Darren\n",
      "5      Coplin      Joan      Baker Timothy\n",
      "6     Crumpet     Erica        Smith Tracy\n",
      "7        Dare     Nancy    Joplette Janice\n",
      "8     Genting   Matthew     Butters Gerald\n",
      "9        Hunt      John  Purview Millicent\n",
      "10      Jones     David    Joplette Janice\n",
      "11      Jones   Douglas        Jones David\n",
      "12   Joplette    Janice       Smith Darren\n",
      "13  Mackenzie      Anna       Smith Darren\n",
      "14       Owen   Charles       Smith Darren\n"
     ]
    }
   ],
   "source": [
    "with sqlite3.connect('sqlite_db_pythonsqlite.db') as conn  :\n",
    "    q11 = conn.execute(\"SELECT m.surname,m.firstname , ( r.surname || ' ' || r.firstname ) AS referred_by \\\n",
    "    FROM Members AS m \\\n",
    "    LEFT JOIN Members AS r \\\n",
    "    ON m.recommendedby = r.memid \\\n",
    "    WHERE m.recommendedby > 0 \\\n",
    "    ORDER BY m.surname, m.firstname\")\n",
    "    r = q11.fetchall()\n",
    "    df_fac = pd.DataFrame(r)\n",
    "    df_fac.columns = [col[0] for col in q11.description]\n",
    "    print(df_fac.head(15))\n"
   ]
  },
  {
   "cell_type": "markdown",
   "id": "southern-christian",
   "metadata": {},
   "source": [
    "Q12: Find the facilities with their usage by member, but not guests"
   ]
  },
  {
   "cell_type": "code",
   "execution_count": 6,
   "id": "surprising-ireland",
   "metadata": {},
   "outputs": [
    {
     "name": "stdout",
     "output_type": "stream",
     "text": [
      "       member_name         facility  total_slots\n",
      "0   Bader Florence     Table Tennis           86\n",
      "1   Bader Florence    Snooker Table           66\n",
      "2   Bader Florence  Badminton Court           27\n",
      "3   Bader Florence   Tennis Court 2           24\n",
      "4   Bader Florence       Pool Table           23\n",
      "5   Bader Florence     Squash Court            4\n",
      "6   Bader Florence   Massage Room 2            4\n",
      "7   Bader Florence   Tennis Court 1            3\n",
      "8       Baker Anne   Tennis Court 2          114\n",
      "9       Baker Anne     Squash Court          110\n",
      "10      Baker Anne  Badminton Court           30\n",
      "11      Baker Anne   Tennis Court 1           18\n",
      "12      Baker Anne       Pool Table           12\n",
      "13      Baker Anne   Massage Room 1            6\n",
      "14      Baker Anne   Massage Room 2            4\n"
     ]
    }
   ],
   "source": [
    "with sqlite3.connect('sqlite_db_pythonsqlite.db') as conn  :\n",
    "    q12 = conn.execute(\"SELECT ( m.surname || ' ' || m.firstname ) AS member_name, \\\n",
    "    f.name AS facility, SUM( b.slots ) AS total_slots \\\n",
    "    FROM Bookings AS b \\\n",
    "    LEFT JOIN Facilities AS f ON b.facid = f.facid \\\n",
    "    LEFT JOIN Members AS m ON b.memid = m.memid \\\n",
    "    WHERE b.memid !=0 \\\n",
    "    GROUP BY b.memid, f.name \\\n",
    "    ORDER BY member_name, total_slots DESC\")\n",
    "    r = q12.fetchall()\n",
    "    df_fac = pd.DataFrame(r)\n",
    "    df_fac.columns = [col[0] for col in q12.description]\n",
    "    print(df_fac.head(15))\n",
    "    "
   ]
  },
  {
   "cell_type": "markdown",
   "id": "floral-poetry",
   "metadata": {},
   "source": [
    "Q13: Find the facilities usage by month, but not guests "
   ]
  },
  {
   "cell_type": "code",
   "execution_count": 7,
   "id": "registered-there",
   "metadata": {},
   "outputs": [
    {
     "name": "stdout",
     "output_type": "stream",
     "text": [
      "           facility month  total_slots\n",
      "0   Badminton Court    07          165\n",
      "1   Badminton Court    08          414\n",
      "2   Badminton Court    09          507\n",
      "3    Massage Room 1    07          166\n",
      "4    Massage Room 1    08          316\n",
      "5    Massage Room 1    09          402\n",
      "6    Massage Room 2    07            8\n",
      "7    Massage Room 2    08           18\n",
      "8    Massage Room 2    09           28\n",
      "9        Pool Table    07          110\n",
      "10       Pool Table    08          303\n",
      "11       Pool Table    09          443\n",
      "12    Snooker Table    07          140\n",
      "13    Snooker Table    08          316\n",
      "14    Snooker Table    09          404\n"
     ]
    }
   ],
   "source": [
    "with sqlite3.connect('sqlite_db_pythonsqlite.db') as conn  :\n",
    "    q13 = conn.execute(\"SELECT f.name AS facility, strftime('%m', starttime) AS month,SUM( b.slots ) AS total_slots\\\n",
    "    FROM Bookings AS b \\\n",
    "    LEFT JOIN Facilities AS f ON b.facid = f.facid \\\n",
    "    WHERE b.memid !=0 \\\n",
    "    GROUP BY f.name, strftime('%m', starttime) \\\n",
    "    ORDER BY f.name\")\n",
    "    r = q13.fetchall()\n",
    "    df_fac = pd.DataFrame(r)\n",
    "    df_fac.columns = [col[0] for col in q13.description]\n",
    "    print(df_fac.head(15))\n",
    "\n"
   ]
  },
  {
   "cell_type": "code",
   "execution_count": null,
   "id": "suburban-woman",
   "metadata": {},
   "outputs": [],
   "source": []
  }
 ],
 "metadata": {
  "kernelspec": {
   "display_name": "Python 3",
   "language": "python",
   "name": "python3"
  },
  "language_info": {
   "codemirror_mode": {
    "name": "ipython",
    "version": 3
   },
   "file_extension": ".py",
   "mimetype": "text/x-python",
   "name": "python",
   "nbconvert_exporter": "python",
   "pygments_lexer": "ipython3",
   "version": "3.7.9"
  }
 },
 "nbformat": 4,
 "nbformat_minor": 5
}
